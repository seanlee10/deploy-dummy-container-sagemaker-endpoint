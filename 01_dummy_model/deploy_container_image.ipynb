{
 "cells": [
  {
   "cell_type": "markdown",
   "source": [
    "# Deploy Container Image\n",
    "| ECR에 푸시된 커스텀 컨테이너 이미지를 이용해서 Sagemaker Endpoint에 등록하는 과정을 안내합니다.\n",
    "\n",
    "\n",
    "## 개요\n",
    "커스텀 컨테이너 이미지를 Sagemaker Endpoint로 등록하는 과정은 세 단계로 이루어집니다.\n",
    "\n",
    "1. Sagemaker Model 등록하기\n",
    "2. Sagemaker Endpoint Config 등록하기\n",
    "3. Sagemaker Endpoint 등록하기"
   ],
   "metadata": {
    "collapsed": false,
    "pycharm": {
     "name": "#%% md\n"
    }
   }
  },
  {
   "cell_type": "code",
   "execution_count": null,
   "outputs": [],
   "source": [
    "import boto3\n",
    "client = boto3.client('sagemaker')"
   ],
   "metadata": {
    "collapsed": false,
    "pycharm": {
     "name": "#%%\n"
    }
   }
  },
  {
   "cell_type": "code",
   "execution_count": null,
   "outputs": [],
   "source": [
    "# Create Sagemaker Model\n",
    "create_model_response = client.create_model(\n",
    "    ModelName='<생성할 Sagemaker 모델명>', # ex) sm-dummy-inference-model\n",
    "    PrimaryContainer={ #\n",
    "        'Image': '<ECR 레포지토리 URI>', # ex) 9803771.dkr.ecr.ap-northeast-2.amazonaws.com/dummy-inference-model',\n",
    "        'Environment': { }\n",
    "    },\n",
    "    ExecutionRoleArn='<AmazonSagemakerFullAccess를 포함하는 IAM 역할>' # ex) arn:aws:iam::980377:role/service-role/AmazonSageMaker-ExecutionRole-20231127T170565'\n",
    ")\n",
    "\n",
    "print(\"create model response:\", create_model_response)"
   ],
   "metadata": {
    "collapsed": false,
    "pycharm": {
     "name": "#%%\n"
    }
   }
  },
  {
   "cell_type": "code",
   "execution_count": null,
   "outputs": [],
   "source": [
    "# Create Sagemaker Endpoint Config\n",
    "create_endpoint_config_response = client.create_endpoint_config(\n",
    "    EndpointConfigName='<엔드포인트 컨피그명>', # ex) dummy-inference-serve-config',\n",
    "    ProductionVariants=[\n",
    "        {\n",
    "            'ModelName': '<앞에서 정의한 Sagemaker 모델명>', # ex) sm-dummy-inference-model\n",
    "            'VariantName': '<변형 명>', # ex) variant-sm-dummy-inference-model-1\n",
    "            'InitialInstanceCount': 1,\n",
    "            'InstanceType': 'ml.m4.xlarge'\n",
    "        }\n",
    "    ]\n",
    ")\n",
    "\n",
    "print('create endpoint config response:', create_endpoint_config_response)"
   ],
   "metadata": {
    "collapsed": false,
    "pycharm": {
     "name": "#%%\n"
    }
   }
  },
  {
   "cell_type": "code",
   "execution_count": null,
   "outputs": [],
   "source": [
    "# Create Sagemaker Endpoint\n",
    "create_endpoint_response = client.create_endpoint(\n",
    "    EndpointName='<엔드포인트 명>', # ex) dummy-inference-serve',\n",
    "    EndpointConfigName='<직전에 정의한 엔드포인트 컨피그명>', # ex) dummy-inference-serve-config'\n",
    ")\n",
    "\n",
    "print('create endpoint response: ', create_endpoint_response)"
   ],
   "metadata": {
    "collapsed": false,
    "pycharm": {
     "name": "#%%\n"
    }
   }
  },
  {
   "cell_type": "code",
   "execution_count": null,
   "outputs": [],
   "source": [
    "# Sagemaker Endpoint 호출하기\n",
    "sagemaker_runtime = boto3.client(\"runtime.sagemaker\")\n",
    "inference_response = sagemaker_runtime.invoke_endpoint(\n",
    "    EndpointName='<엔드포인트 명>',\n",
    "    Body=\"Hello World\"\n",
    ")\n",
    "\n",
    "response_str = inference_response[\"Body\"].read().decode()\n",
    "print(response_str)"
   ],
   "metadata": {
    "collapsed": false,
    "pycharm": {
     "name": "#%%\n"
    }
   }
  }
 ],
 "metadata": {
  "kernelspec": {
   "display_name": "Python 3",
   "language": "python",
   "name": "python3"
  },
  "language_info": {
   "codemirror_mode": {
    "name": "ipython",
    "version": 2
   },
   "file_extension": ".py",
   "mimetype": "text/x-python",
   "name": "python",
   "nbconvert_exporter": "python",
   "pygments_lexer": "ipython2",
   "version": "2.7.6"
  }
 },
 "nbformat": 4,
 "nbformat_minor": 0
}